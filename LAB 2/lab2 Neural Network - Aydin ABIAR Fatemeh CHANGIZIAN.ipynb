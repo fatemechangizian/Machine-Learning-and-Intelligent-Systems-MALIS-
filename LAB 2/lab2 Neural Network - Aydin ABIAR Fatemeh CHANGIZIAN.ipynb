{
 "cells": [
  {
   "cell_type": "markdown",
   "metadata": {
    "colab_type": "text",
    "id": "_Fc-cAAWOp4k"
   },
   "source": [
    "\n",
    "# MALIS Lab Session 2 - Fall 2020\n",
    "## Due Date: November 16 23h59"
   ]
  },
  {
   "cell_type": "markdown",
   "metadata": {
    "colab_type": "text",
    "id": "JyM-uj_BOp4m"
   },
   "source": [
    "**Group :**\n",
    "\n",
    "**Aydin ABIAR**\n",
    "\n",
    "**Fatemeh CHANGIZIAN**"
   ]
  },
  {
   "cell_type": "markdown",
   "metadata": {
    "colab_type": "text",
    "id": "_AQtwDCKOp4n"
   },
   "source": [
    "The aim of this lab is to practice with Neural Networks (Multi-Layer Perceptrons) via simple classification experiments and the implementation of the feedforward and backpropagation procedures.\n",
    "\n",
    "#### Learning goals\n",
    "After this lab, you should be able to:\n",
    "1. Be familiar with the elements required to define the architecture of a neural network (NN).\n",
    "2. Understand the two procedures needed to train a neural network: feedforward and backpropagation\n",
    "3. Understand the role of the learning rate and the number of iterations in the training process of a NN and how it these can affect performance.\n",
    "\n",
    "#### Instructions:\n",
    "Experiments should be made by groups of two students. Each group should produce a Jupyter Notebook with all their results and comments. We strongly encourage the addition of plots and visual representation to the report, bearing in mind that comments on the graphical data are still necessary. Code for adding images to your notebook: ```<img src=\"path/to/image.png\" />```. <Plateforme soumission des notebooks>"
   ]
  },
  {
   "cell_type": "markdown",
   "metadata": {
    "colab_type": "text",
    "id": "pZKs_0AtOp4o"
   },
   "source": [
    "<h2>Introduction</h2>\n",
    "There are three parts to this lab session. \n",
    "\n",
    "1. A \"theoretical\" part: Given a set of training examples you have to decide on the architecture of the feed-forward neural network such as; number of layers, number of neuron per layers and finally the values of the weights. \n",
    "\n",
    "2. A \"programming\" part: Given the skeleton of the Python code of an MLP simulator, implement the missing functions (feedforward and backpropagation procedures). \n",
    "\n",
    "3. An \"experimental\" part: Having completed the implementation of the MLP simulator, the final step consist on training the network and testing it.\n",
    "\n",
    "<h2>Part 1: Design a neural network</h2>\n",
    "The aim of this part is to get a better understanding of the basics of Neural Networks construction. A number of sample points on a 128 by 128 grid have been assigned one out of three colors (red, green or blue). You should build a Neural Network with two inputs and three outputs which provides the exact coloring for these points. The problem can be visualized in the following figure: \n",
    "\n",
    "<img src=\"data_set.jpg\" />\n",
    "\n",
    "The file set30.x1x2rgb (in .\\data\\) contains the data corresponding to the problem defined above. The visual representation of the problem (above figure) is stored in data_set.jpg.\n",
    "\n",
    "The problem:\n",
    "\n",
    "Pairs of x1 and x2 coordinates (both ranging between 0 and 127) are associated with a specific color: \n",
    "\n",
    "* Red: output 1 0 0, \n",
    "* Green: output 0 1 0, \n",
    "* Blue: output 0 0 1. "
   ]
  },
  {
   "cell_type": "markdown",
   "metadata": {},
   "source": [
    "**Question :** How many linear separations would be needed to perfectly separate the data points? Using the visual representation, give some appropriate equations of such linear separations."
   ]
  },
  {
   "cell_type": "markdown",
   "metadata": {},
   "source": [
    "**Answer :**  We would need 2 linear separations. \n",
    "A first separation between the group {red} and {green, blue} with the equation 5x1 + 8x2 - 5 = 0\n",
    "\n",
    "A second separations between {green} and {blue} (to differentiate between the previous elements inside {green, blue}) with the equation -23x + 17y + 345 = 0"
   ]
  },
  {
   "cell_type": "markdown",
   "metadata": {},
   "source": [
    "The objective of the network is to correctly determine for any given (x1, x2) coordinate pair the corresponding color. \n",
    "Using the equations you proposed before, along with your lectures knowledge, your task is to <b>manually define a Neural Network which performs this task perfectly</b>. There is no need for programming or iterative training. The transfer function is assumed to be the step function: \n",
    "\n",
    "$f(t) = (t > 0)$ (it is equal to 1 if t is positive, 0 otherwise). \n",
    "\n",
    "Of course, it is your task to define the number of layers, the number of neurons per layer, and the exact values for the weights. \n",
    "\n",
    "<i>Hint: We may remember the XOR problem and how it was solved. Think also how many lines you need to create areas with only elements of that color and if the color is below or above that color.</i>"
   ]
  },
  {
   "cell_type": "markdown",
   "metadata": {
    "colab_type": "text",
    "id": "Kkmqn1bnOp4p"
   },
   "source": [
    "### Your answer :\n",
    "\n",
    "( *Fill in the correct data and fill the respective weigths and biases* )"
   ]
  },
  {
   "cell_type": "raw",
   "metadata": {
    "colab_type": "raw",
    "id": "rMV9r4dROp4p"
   },
   "source": [
    "\n",
    "\n",
    "Input layer:  2 units,  x1   x2\n",
    "\n",
    "First hidden layer: We enter the weights and the bias thanks to the hyperplans we made earlier\n",
    "    n1 neurons:\n",
    "    neuron 1: w11 = 5  <- weight from input x1 to neuron 1\n",
    "              w12 = 8 <- weight from input x2 to neuron 1\n",
    "              b1  = -5 <- bias of neuron 1 of the first hidden layer\n",
    "    neuron 2: w21 = -23\n",
    "              w22 = 17\n",
    "              b2  = 345       \n",
    "\n",
    "\n",
    "output layer: We enter the weights and bias of the output layer by using logical structures to make sure the output is positive or negative  epending on the results of h1 and h2\n",
    "    n_out neurons:\n",
    "    neuron 1: w11 = -1\n",
    "              w12 = 0\n",
    "              b1  = 0.5\n",
    "    neuron 2: w21 = 1\n",
    "              w22 = 1\n",
    "              b2  = -1.5\n",
    "    neuron 3: w31 = 1\n",
    "              w32 = -1\n",
    "              b3  = -0.5"
   ]
  },
  {
   "cell_type": "markdown",
   "metadata": {
    "colab_type": "text",
    "id": "0cy0DpBiOp4q"
   },
   "source": [
    "#### Test with the data\n",
    "Test with the data in ./data/set30.x1x2rgb, complete the code below with your values"
   ]
  },
  {
   "cell_type": "code",
   "execution_count": 1,
   "metadata": {},
   "outputs": [],
   "source": [
    "import pandas as pd\n",
    "import numpy as np\n",
    "from sklearn.model_selection import train_test_split\n",
    "print_solutions=False"
   ]
  },
  {
   "cell_type": "code",
   "execution_count": 2,
   "metadata": {
    "colab": {
     "base_uri": "https://localhost:8080/",
     "height": 130
    },
    "colab_type": "code",
    "id": "dKoW4efyOp4r",
    "outputId": "a98ab8c3-5587-4464-ec7a-f6455a1797a6"
   },
   "outputs": [
    {
     "name": "stdout",
     "output_type": "stream",
     "text": [
      "accuracy :  100.0 %\n"
     ]
    }
   ],
   "source": [
    "rgb_df=pd.read_csv('colors.csv')\n",
    "\n",
    "x=np.array(rgb_df[['x1','x2']].copy())\n",
    "y=np.array(rgb_df[['y1','y2','y3']].copy())\n",
    "\n",
    "######################### YOUR VALUES HERE ####################\n",
    "\n",
    "# weight input -> 1st hidden layer\n",
    "W_1 =np.array([[14, 23], # to n1 of first hidden layer\n",
    "      [-23, 17] # to n2 of first hidden layer\n",
    "      ])\n",
    "# bias 1st hidden layer\n",
    "b_1 = np.array([-1860, 345]).T \n",
    "\n",
    "# 1st hidden layer -> output layer\n",
    "W_out =np.array([[-1, 0], # to n1 of first hidden layer\n",
    "      [1, 1], # to n2 of first hidden layer\n",
    "      [1, -1]])\n",
    "b_out = np.array([0.5, -1.5, -0.5]).T \n",
    "\n",
    "\n",
    "x1 = (b_1 + x @ W_1.T)>0 # @ is the matrix product\n",
    "y_hat = (b_out + x1 @ W_out.T)>0\n",
    "\n",
    "######################### END YOUR VALUES ######################\n",
    "\n",
    "# You should get 100 %\n",
    "print('accuracy : ' , 100*np.sum(y_hat==y)/(3*len(y)),'%')\n",
    "\n"
   ]
  },
  {
   "cell_type": "code",
   "execution_count": 3,
   "metadata": {
    "colab": {
     "base_uri": "https://localhost:8080/",
     "height": 443
    },
    "colab_type": "code",
    "id": "3bjVtxx6Op4w",
    "outputId": "686a0d8f-9960-4063-df83-1cdac632d6a7"
   },
   "outputs": [],
   "source": [
    "# do NOT modify this cell\n",
    "if print_solutions==True :\n",
    "    %load ./solutions/part1.py"
   ]
  },
  {
   "cell_type": "markdown",
   "metadata": {
    "colab_type": "text",
    "id": "FptDCtcaOp40"
   },
   "source": [
    "## Part 2: Implementation of a Neural Network / Multi-Layer Perceptrons\n",
    "\n",
    "In order to implement a neural network, firstly we have to implement the basic blocks, then combine them.\n",
    "\n",
    "1. **Initialization of parameters**\n",
    "    1. need as parameters the number of neurons in input, hidden layer1, hidden layer2, ..., output\n",
    "    2. random initialization of the parameters\n",
    "2. **Activation functions**\n",
    "    1. define the function sigmoid and sigmoid_derivative\n",
    "2. **Forward function**\n",
    "    1. using inputs, weights, activation functions compute y_hat\n",
    "3. **Loss function**\n",
    "    1. given as input the true y and y_hat, compute the loss\n",
    "4. **Accuracy**\n",
    "    1. given as input the true y and y_hat, compute the accuracy\n",
    "5. **Backward function**\n",
    "    1. gradient computations from last layer to first layer\n",
    "    2. update of parameters (weights,...)\n",
    "6. **Training**\n",
    "    1. needs as parameters the inputs and corresponding outputs,the learning rate, the number of epochs and the parameter verbose\n",
    "    2. repeat for the number of epochs:\n",
    "        1. shuffle the inputs\n",
    "        2. for each input : forward, loss, backward\n",
    "        3. loss and save it and if verbose==True print it\n",
    "        4. accuracy and save it and if verbose==True print it\n"
   ]
  },
  {
   "cell_type": "markdown",
   "metadata": {},
   "source": [
    "Give a look to the file **NeuralNetwork.py** and then return to the notebook to implement the missing functions"
   ]
  },
  {
   "cell_type": "code",
   "execution_count": 4,
   "metadata": {},
   "outputs": [],
   "source": [
    "import numpy as np\n",
    "from scipy.stats import logistic\n",
    "# from the file NeuralNetwork.py we import the Multi-Layer Perceptron\n",
    "from NeuralNetwork import MLP"
   ]
  },
  {
   "cell_type": "markdown",
   "metadata": {},
   "source": [
    "**2. Activation functions**\n",
    "\n",
    "In MLP there is the function sigmoid. Using MPL.sigmoid(), implement its derivative function"
   ]
  },
  {
   "cell_type": "code",
   "execution_count": 5,
   "metadata": {},
   "outputs": [],
   "source": [
    "def d_sigmoid(a) :\n",
    "    '''\n",
    "    Derivative of sigmoid activation function. It can work with single inputs or vectors or matrices.\n",
    "    Return the sigmoid derivative of a\n",
    "    '''\n",
    "    ################# YOUR CODE HERE ####################\n",
    "    \n",
    "    if np.isscalar(a) : # If a is a scalar then we just calculate normally\n",
    "        sig = MLP.sigmoid(a)\n",
    "        d_sig = sig*(1-sig)\n",
    "        a = d_sig\n",
    "    \n",
    "    else : # If a is a numpy list or array    \n",
    "        # I used the numpy.nditer to modify a whether it is a numpy list or array\n",
    "        # https://numpy.org/doc/stable/reference/arrays.nditer.html Section \" Modifying Array values\"\n",
    "        with np.nditer(a, op_flags=['readwrite']) as it: # We iterate through every element of the list / array\n",
    "            for element in it : \n",
    "                sig = MLP.sigmoid(element) # Sigmoid of the element\n",
    "                d_sig = sig*(1-sig) # Derivative sigmoid of the element using the sigmoid properties\n",
    "                element[...] = d_sig # We modify the element\n",
    "        \n",
    "    return a\n",
    "    \n",
    "    ################ END OF YOUR CODE HERE ##############\n",
    "    \n",
    "MLP.d_sigmoid=d_sigmoid"
   ]
  },
  {
   "cell_type": "code",
   "execution_count": 6,
   "metadata": {},
   "outputs": [],
   "source": [
    "# do NOT modify this cell\n",
    "if print_solutions==True :\n",
    "    %load ./solutions/d_sigmoid.py"
   ]
  },
  {
   "cell_type": "markdown",
   "metadata": {},
   "source": [
    "**3. Feedforward function**\n",
    "\n",
    "Write a function which performs the forward operation from input to output layer. Remember you have len(self.layers) number of layers and each layer has its own parameters:\n",
    "1. self.layer[0].W are the weights between input and 1st hidden layer\n",
    "2. self.layer[0].b are the biases of the 1st hidden layer\n",
    "3. ...\n",
    "\n",
    "Each layer has as activation function the sigmoid function"
   ]
  },
  {
   "cell_type": "code",
   "execution_count": 7,
   "metadata": {},
   "outputs": [],
   "source": [
    "def forward(self, x) :\n",
    "    '''\n",
    "    Forward function. From input layer to output layer. Input can handle 1D or 2D inputs.\n",
    "\n",
    "    INPUTS:\n",
    "    - x : numpy array of size NxD, where N is the number of samples, D is the number of input dimensions referred as n_input before\n",
    "\n",
    "    OUTPUTS:\n",
    "    - y_hat : numpy array of size NxC, where C is the number of classes\n",
    "    '''\n",
    "    ################# YOUR CODE HERE ####################\n",
    "    \n",
    "######### Please note that I am using the notation of the online chapter you give further\n",
    "######### This means : self.layer[l].z in the weighted input vector of the layer l\n",
    "#########              self.layer[l].a = MLP.sigmoid(z) is the output vector of the layer l\n",
    "    L = len(self.layer) # Number of layers\n",
    "    z = x # Initialisation : \"output\" of the first layer, l = 0, are the inputs\n",
    "    for i in range(L) :\n",
    "        z = self.layer[i].b + z @ self.layer[i].W.T # Computing the weighted input for each layer\n",
    "        self.layer[i].z = z\n",
    "        a = MLP.sigmoid(z) # Computing the output for each layer\n",
    "        self.layer[i].a = a \n",
    "        z=a # The weighted input of the next layer is the output of the current layer\n",
    "        \n",
    "    y_hat = self.layer[L-1].z # The last output is y_hat \n",
    "    \n",
    "    ################ END OF YOUR CODE HERE ##############\n",
    "\n",
    "    return y_hat\n",
    "\n",
    "MLP.forward=forward"
   ]
  },
  {
   "cell_type": "code",
   "execution_count": 8,
   "metadata": {},
   "outputs": [],
   "source": [
    "# do NOT modify this cell\n",
    "if print_solutions==True :\n",
    "    %load ./solutions/forward.py"
   ]
  },
  {
   "cell_type": "markdown",
   "metadata": {},
   "source": [
    "**4. Loss function**\n",
    "\n",
    "Compute the mean square loss between y_hat and y\n",
    "$$L = \\frac{1}{N}\\sum_{n=0}^{N-1} \\left(\\frac{1}{2} \\sum_{k=0}^{C-1} (\\hat{y}_{k,n} - y_{k,n})^2\\right)$$\n",
    "with $k$ be the class, and $n$ the sample"
   ]
  },
  {
   "cell_type": "code",
   "execution_count": 9,
   "metadata": {},
   "outputs": [],
   "source": [
    "def loss(y_hat, y) :\n",
    "    '''\n",
    "    Compute the loss between y_hat and y! they can be 1D or 2D arrays!\n",
    "\n",
    "    INPUTS:\n",
    "    - y_hat : numpy array of size NxC, N number of samples, C number of classes. It contains the estimated values of y\n",
    "    - y : numpy array of size NxC with one 1 in each row, corresponding to the correct class for that sample\n",
    "\n",
    "    OUTPUTS:\n",
    "    - L : MSE loss\n",
    "    '''\n",
    "    ################# YOUR CODE HERE ####################\n",
    "\n",
    "    N = len(y) # Number of samples\n",
    "    C = len(y[0]) # Number of classes\n",
    "    \n",
    "    L = 0\n",
    "    for n in range(N) :\n",
    "        for k in range(C) :\n",
    "            L += 0.5*(y_hat[n][k] - y[n][k])**2\n",
    "    L /= N\n",
    "    ################ END OF YOUR CODE HERE ##############\n",
    "\n",
    "    return L\n",
    "\n",
    "MLP.loss=loss"
   ]
  },
  {
   "cell_type": "code",
   "execution_count": 10,
   "metadata": {},
   "outputs": [],
   "source": [
    "# do NOT modify this cell\n",
    "if print_solutions==True :\n",
    "    %load ./solutions/loss.py"
   ]
  },
  {
   "cell_type": "markdown",
   "metadata": {},
   "source": [
    "**5. Accuracy**\n",
    "\n",
    "Compute the accuracy counting how many y_hat are equal to y over the total number of N samples. Remember the accuracy is a value in [0,1]"
   ]
  },
  {
   "cell_type": "code",
   "execution_count": 11,
   "metadata": {},
   "outputs": [],
   "source": [
    "def accuracy(y_hat,y) :\n",
    "    '''\n",
    "    Compute the accuracy between y_hat and y\n",
    "\n",
    "    INPUTS:\n",
    "    - y_hat : numpy array of size NxC, C number of classes. It contains the estimated values of y\n",
    "    - y : numpy array of size NxC with correct values of y\n",
    "\n",
    "    OUTPUTS:\n",
    "    - acc : the accuracy value between 0 and 1\n",
    "    '''\n",
    "    ################# YOUR CODE HERE ####################\n",
    "\n",
    "    N = len(y) # Number of samples\n",
    "    C = len(y[0]) # Number of classes\n",
    "    correct_samples = 0 # Number of correct samples initialised to 0 \n",
    "    for n in range(N) : # We iterate for each samples\n",
    "        # We check with a boolean correct_classes if each class is correctly predicted\n",
    "        correct_classes = True\n",
    "        for c in range(C) :\n",
    "            if y_hat[n][c] >= 0.5 and y[n][c] == 0 :\n",
    "                correct_classes = False\n",
    "            elif y_hat[n][c] < 0.5 and y[n][c] == 1 :\n",
    "                correct_classes = False\n",
    "        # Therefore , correct_classes is True if every predicted class is > 0.5 or < 0.5 respectively with the correct class being 1 or 0\n",
    "        if correct_classes :\n",
    "            correct_samples += 1 # We count every correct samples\n",
    "    \n",
    "    acc = correct_samples / N # Accuracy\n",
    "    return acc\n",
    "\n",
    "    ################ END OF YOUR CODE HERE ##############\n",
    "\n",
    "\n",
    "MLP.accuracy=accuracy"
   ]
  },
  {
   "cell_type": "code",
   "execution_count": 12,
   "metadata": {},
   "outputs": [],
   "source": [
    "# do NOT modify this cell\n",
    "if print_solutions==True :\n",
    "    %load ./solutions/accuracy.py"
   ]
  },
  {
   "cell_type": "markdown",
   "metadata": {},
   "source": [
    "**6. Backpropagation**\n",
    "\n",
    "You can perform it in 2 ways. The first neuron by neuron as done during the lecture, or you can use matrices as explained here. The result are equivalent. A full matrix derivation can be found here http://neuralnetworksanddeeplearning.com/chap2.html\n",
    "\n",
    "$$\\frac{\\partial L}{\\partial z^L}=\\frac{\\partial L}{\\partial \\hat{y}}=\\delta_L=\\hat{y}-y=z^L-y$$\n",
    "\n",
    "**Important** : $\\hat{y}$ and $y$ are row vectors 1$\\times$C, with C the number of classes, while $a$, $z$ and $b$ are row vectors too in this notation. So are the derivatives w.r.t. them. $W^l$ is instead a matrix $n^l \\times n^{l-1}$, where $n^l$ is the number of neurons at layer $l$, while  $n^{l-1}$ is the number of neurons at layer $l-1$\n",
    "\n",
    "**Generic layer $l$**\n",
    "\n",
    "$$\\frac{\\partial L}{\\partial z^l}=\\delta_l=\\frac{\\partial L}{\\partial a^{l+1}}\\ W^{l+1}$$\n",
    "\n",
    "$$\\frac{\\partial L}{\\partial a^l}=\\delta_l \\odot \\sigma'(a^l)$$\n",
    "\n",
    "$\\odot$ is the Hadamard product or elementwise multiplication\n",
    "\n",
    "$$\\frac{\\partial L}{\\partial b^l}=\\frac{\\partial L}{\\partial a^l}$$\n",
    "\n",
    "$$\\frac{\\partial L}{\\partial W^l}=\\left(\\frac{\\partial L}{\\partial a^l}\\right)^T\\ (z^{l-1})$$\n",
    "\n",
    "with $z^{-1}$, the z at layer -1 is $x$ the input vector of size 1$\\times$D, where D is the number of features\n",
    "\n",
    "After all computations, remember to compute the update of the gradients using the learning rate $\\eta$\n",
    "\n",
    "$$W^l_{new}=W^l-\\eta \\frac{\\partial L}{\\partial W^l}$$\n",
    "\n",
    "$$b^l_{new}=b^l-\\eta \\frac{\\partial L}{\\partial b^l}$$\n",
    "\n",
    "\n",
    "\n",
    "\n",
    "\n",
    "\n",
    "\n"
   ]
  },
  {
   "cell_type": "code",
   "execution_count": 13,
   "metadata": {},
   "outputs": [],
   "source": [
    "def backpropagation(self,x,y,y_hat,learning_rate) :\n",
    "    '''\n",
    "    Backpropagate the error from last layer to input layer and then update the parameters\n",
    "\n",
    "    INPUTS:\n",
    "    - y_hat : numpy array of size NxC, C number of classes. It contains the estimated values of y\n",
    "    -y : numpy array of size NxC with correct values of y\n",
    "\n",
    "    OUTPUTS: (compute the error at the different levels and for each layer)\n",
    "    - d_a\n",
    "    - d_z\n",
    "    - delta_L\n",
    "    - delta_l\n",
    "    - d_W\n",
    "    - d_b\n",
    "    '''\n",
    "# compute gradients\n",
    "\n",
    "    ################# YOUR CODE HERE ####################\n",
    "\n",
    "######### I WILL FOLLOW THE ONLINE CHAPTER NOTATION ##########\n",
    "######### z_l is the weighted input vector of the layer l\n",
    "######### a_l = MLP.sigmoid(z_l) is the output vector of layer l with a_L being by definition y_hat (a_l_k is its k'th element)\n",
    "######### grad_L_da_l or grad_L_dw_l or grad_L_db_l are the cost gradient relative to the output vector \n",
    "#########                                           or the weight vectors or the biases vector of the layer l\n",
    "######### d_sig_z_l is the sigmoid derivative vector applied to the vector z_l\n",
    "######### delta_l is the output error vector of the layer l (delta_l_j is its j'th element)\n",
    "######### The used equation are :\n",
    "######### (BP1) : delta_L = grad_L_da_L * d_sig_z_L \n",
    "######### (BP2) : delta_l = w_above_l.T @ delta_above_l * d_sig_z_l with w_above_l and delta_above_l \n",
    "#########                                                           the weight vectors and the output error vector \n",
    "#########                                                           of the layer above l (=l+1)\n",
    "######### (BP3) : grad_L_b_l = delta_l\n",
    "######### (BP4) : grad_L_w_jk = a_below_l_k * delta_l_j     with grad_l_w_jk the grad_L_w element of the j'th line and k'th column\n",
    "#########                                                   and a_below_l_k the k'th element of the output vector of the layer l-1\n",
    "\n",
    "\n",
    "    L = len(self.layer) # Number of layers\n",
    "    \n",
    "    ## STEP 1 INITIALISATION : Computing the output error vector delta_L using (BP1) equation\n",
    "    ## (BP1) : delta_L = grad_L_da_L * d_sig_z_L\n",
    "    ## Then we will compute the cost gradient relative to the bias and the weight of the last layer\n",
    "    \n",
    "    ### The output vector a_L is y_hat :\n",
    "    a_L = y_hat # = self.layer[L-1].a\n",
    "    \n",
    "    ### Computing the cost function derivative relative to a_L\n",
    "    grad_L_da_L = a_L - y # we derive a norm function\n",
    "    \n",
    "    ### Retrieving the vector d_sigmoid(z_L)\n",
    "    d_sig_z_L = MLP.d_sigmoid(self.layer[L-1].z)\n",
    "    \n",
    "    ### Computing the output error delta_L\n",
    "    delta_L = grad_L_da_L * d_sig_z_L  \n",
    "    \n",
    "    ### Computing the cost gradient relative to the bias \n",
    "    grad_L_b_L = delta_L # By (BP3) \n",
    "    self.layer[L-1].d_b = grad_L_b_L\n",
    "    \n",
    "    ### Retrieving the ouput vector of the layer below\n",
    "    a_below_L = self.layer[L-2].a\n",
    "        \n",
    "    ### Computing the gradient of the cost relative to the weights of the layer l    \n",
    "    grad_L_w_L = delta_L.T @ a_below_L # By (BP4)\n",
    "    self.layer[L-1].d_W = grad_L_w_L\n",
    "            \n",
    "    ## STEP 2 BACKPROPAGATION : We calculate for each layer, starting from the last layer, the gradient of the cost relative to the biases and the wheights\n",
    "\n",
    "    delta_above_l = delta_L # We initialise for the loop below\n",
    "    \n",
    "    for i in range(L-1) : # We iterate through the layers\n",
    "        \n",
    "        l = L-2-i # We work on the layer l starting from the penultimate layer        \n",
    "        \n",
    "        if l != 0 :  # We deal with the the first hidden layer later because its cost gradient relative to the weight is defined from x and not the activation \n",
    "        ### First, we compute the error vector delta_l of the layer l using (BP2)\n",
    "        #### (BP2) : delta_l = w_above_l.T @ delta_above_l * d_sig_z_l\n",
    "\n",
    "        #### Retrieving the weights w_above_l ( = w_l+1)\n",
    "            w_above_l = self.layer[l+1].W # w_l+1\n",
    "\n",
    "        #### Computing the vector d_sig_z_l\n",
    "            d_sig_z_l = MLP.d_sigmoid(self.layer[l].z)\n",
    "\n",
    "        #### Computing the error vector delta_l\n",
    "            delta_l = (delta_above_l @ w_above_l)*d_sig_z_l\n",
    "\n",
    "        ### Then, we compute the cost gradient relative to the biases and the weights using (BP3) and (BP4)\n",
    "        ### (BP3) : d_L_b_l = delta_l\n",
    "        ### (BP4) : d_L_w_jk = a_below_l_k * delta_l_j\n",
    "\n",
    "        #### Computing the gradient of the cost relative to the biases of the layer l\n",
    "            grad_L_b_l = np.array(delta_l) # By (BP3)\n",
    "            self.layer[i].d_b = grad_L_b_l\n",
    "\n",
    "        #### Retrieving the output vector of the layer l-1\n",
    "            a_below_l = self.layer[l-1].a\n",
    "\n",
    "        #### Computing the gradient of the cost relative to the weights of the layer l\n",
    "            # Note that grad_L_w_l_jk = a_below_l[k] * delta_l[j] by (BP4) equation\n",
    "            grad_L_w_l = np.array([[a_below_l[k] * delta_l[j] for k in range(len(a_below_l))] for j in range(len(delta_l))]) # By (BP4)\n",
    "            self.layer[i].d_W = grad_L_w_l\n",
    "\n",
    "        ### Restarting the next loop for the layer l-1\n",
    "            delta_above_l = delta_l \n",
    "    \n",
    "    \n",
    "    ## STEP 3 the first layer : We deal with the first layer specially because we compute the cost gradient relative to the weights\n",
    "    ##                          with x and not with a z_l variable as it was for the intermediate layers\n",
    "    \n",
    "    delta_1 = delta_above_l # At the end of the for loop above, delta_1 the output error of the first layer is by construction delta_above_l\n",
    "    d_sig_z_0 = MLP.d_sigmoid(self.layer[0].z) # The weighted input of the first layer\n",
    "    delta_0 = (delta_1 @ self.layer[1].W)*d_sig_z_0 # By (BP2)\n",
    "    grad_L_b_0 = np.array(delta_0) # By (BP3)\n",
    "    self.layer[0].d_b = grad_L_b_0\n",
    "    \n",
    "    grad_L_w_0 = delta_0.T @ x # By (BP4) but we use x there\n",
    "    self.layer[0].d_W = grad_L_w_0\n",
    "\n",
    "    \n",
    "    \n",
    "    ################ END OF YOUR CODE HERE ##############\n",
    "\n",
    "# apply gradients\n",
    "    # just one for loop passing through all layers is sufficient\n",
    "    # apply the gradients only to self.layer[i].b and self.layer[i].W\n",
    "\n",
    "    ################# YOUR CODE HERE ####################\n",
    "\n",
    "    for i in range(L) :\n",
    "        self.layer[i].b = self.layer[i].b - learning_rate * self.layer[i].d_b\n",
    "        self.layer[i].W = self.layer[i].W - learning_rate * self.layer[i].d_W\n",
    "    \n",
    "    ################ END OF YOUR CODE HERE ##############\n",
    "    \n",
    "MLP.backpropagation=backpropagation\n",
    " "
   ]
  },
  {
   "cell_type": "code",
   "execution_count": 14,
   "metadata": {
    "colab": {},
    "colab_type": "code",
    "id": "ZOTD_KvkOp41"
   },
   "outputs": [],
   "source": [
    "# do NOT modify this cell\n",
    "if print_solutions==True :\n",
    "    %load ./solutions/backpropagation.py"
   ]
  },
  {
   "cell_type": "markdown",
   "metadata": {},
   "source": [
    "<h2>Part 3: Training and Recall experiments</h2>\n",
    "\n",
    "Train the network using the iris dataset (https://en.wikipedia.org/wiki/Iris_flower_data_set)\n",
    "* 4 features for every input\n",
    "* 3 possible labels\n"
   ]
  },
  {
   "cell_type": "code",
   "execution_count": 15,
   "metadata": {
    "colab": {},
    "colab_type": "code",
    "id": "2EsfSDYUpWRs"
   },
   "outputs": [],
   "source": [
    "from sklearn import datasets\n",
    "import numpy as np\n",
    "import matplotlib.pyplot as plt\n",
    "import pandas as pd\n",
    "\n",
    "iris = datasets.load_iris()\n",
    "\n",
    "shuffle=np.random.permutation(range(len(iris.data)))\n",
    "X = np.array(iris.data)[shuffle,:]\n",
    "y = np.eye(3)[iris.target,:]\n",
    "y=y[shuffle,:]\n",
    "\n",
    "x_train=X[0:120,:]\n",
    "y_train=y[0:120,:]\n",
    "x_test=X[120:,:]\n",
    "y_test=y[120:,:]\n",
    "\n"
   ]
  },
  {
   "cell_type": "code",
   "execution_count": 17,
   "metadata": {},
   "outputs": [
    {
     "name": "stdout",
     "output_type": "stream",
     "text": [
      "TRAINING\n",
      "Epoch 0 : loss = 3.48462e-01, accuracy = 0.00 %\n",
      "Epoch 10 : loss = 3.01048e-01, accuracy = 0.00 %\n",
      "Epoch 20 : loss = 2.46486e-01, accuracy = 31.67 %\n",
      "Epoch 30 : loss = 1.92024e-01, accuracy = 50.00 %\n",
      "Epoch 40 : loss = 1.68799e-01, accuracy = 67.50 %\n",
      "final : loss = 1.638e-01 , accuracy = 68.33 %\n",
      "\n",
      "TEST\n",
      "loss = 2.046e-01 , accuracy = 60.00 %\n",
      "\n"
     ]
    },
    {
     "data": {
      "image/png": "[encoded data removed]",
      "text/plain": [
       "<Figure size 432x288 with 1 Axes>"
      ]
     },
     "metadata": {
      "needs_background": "light"
     },
     "output_type": "display_data"
    },
    {
     "data": {
      "image/png": "[encoded data removed]",
      "text/plain": [
       "<Figure size 432x288 with 1 Axes>"
      ]
     },
     "metadata": {
      "needs_background": "light"
     },
     "output_type": "display_data"
    }
   ],
   "source": [
    "# Neural Network (NN) parameters\n",
    "epochs=50\n",
    "learning_rate=0.01\n",
    "verbose=True\n",
    "print_every_k=10\n",
    "# Initialization of the NN\n",
    "NN1 = MLP([4, 10, 3])\n",
    "print('TRAINING')\n",
    "# Training\n",
    "NN1.training(x_train,y_train,learning_rate,epochs,verbose,print_every_k)\n",
    "# Compute the training loss and accuracy after having completer the training\n",
    "y_hat=NN1.forward(x_train)\n",
    "print('final : loss = %.3e , accuracy = %.2f %%'%(MLP.loss(y_hat,y_train),100*MLP.accuracy(y_hat,y_train)))\n",
    "\n",
    "# Test\n",
    "print('\\nTEST')\n",
    "y_hat=NN1.forward(x_test)\n",
    "print('loss = %.3e , accuracy = %.2f %%\\n'%(MLP.loss(y_hat,y_test),100*MLP.accuracy(y_hat,y_test)))\n",
    "\n",
    "plt.plot(list(range(epochs)),NN1.losses,c='r',marker='o',ls='--');\n",
    "plt.title(\"Training Loss\")\n",
    "plt.xlabel(\"epochs\")\n",
    "plt.ylabel(\"loss value\")\n",
    "plt.show()\n",
    "\n",
    "plt.plot(list(range(epochs)),NN1.accuracies,c='g',marker='o',ls='--');\n",
    "plt.title(\"Training accuracy\")\n",
    "plt.xlabel(\"epochs\")\n",
    "plt.ylabel(\"accuracy\")\n",
    "plt.show()"
   ]
  },
  {
   "cell_type": "markdown",
   "metadata": {},
   "source": [
    "Using the previous cell as example, try to change the parameters in order to obtain a training accuracy above 99% and a test accuracy above 95%.\n",
    "\n",
    "**Explain** the difference between the new parameters and the old ones. What was missing in the old ones?"
   ]
  },
  {
   "cell_type": "code",
   "execution_count": 19,
   "metadata": {},
   "outputs": [
    {
     "name": "stdout",
     "output_type": "stream",
     "text": [
      "TRAINING\n",
      "Epoch 0 : loss = 2.32107e-01, accuracy = 68.33 %\n",
      "Epoch 10 : loss = 1.15309e-01, accuracy = 76.67 %\n",
      "Epoch 20 : loss = 1.03025e-01, accuracy = 84.17 %\n",
      "Epoch 30 : loss = 3.90717e-02, accuracy = 95.83 %\n",
      "Epoch 40 : loss = 5.17307e-02, accuracy = 91.67 %\n",
      "Epoch 50 : loss = 3.43108e-02, accuracy = 95.83 %\n",
      "Epoch 60 : loss = 2.50363e-02, accuracy = 96.67 %\n",
      "Epoch 70 : loss = 2.39124e-02, accuracy = 95.83 %\n",
      "Epoch 80 : loss = 1.57096e-02, accuracy = 100.00 %\n",
      "Epoch 90 : loss = 2.10298e-02, accuracy = 97.50 %\n",
      "Epoch 100 : loss = 6.32605e-02, accuracy = 91.67 %\n",
      "Epoch 110 : loss = 2.99657e-02, accuracy = 95.00 %\n",
      "final : loss = 1.261e-02 , accuracy = 99.17 %\n",
      "\n",
      "TEST\n",
      "loss = 5.195e-02 , accuracy = 93.33 %\n",
      "\n"
     ]
    },
    {
     "data": {
      "image/png": "[encoded data removed]",
      "text/plain": [
       "<Figure size 432x288 with 1 Axes>"
      ]
     },
     "metadata": {
      "needs_background": "light"
     },
     "output_type": "display_data"
    },
    {
     "data": {
      "image/png": "[encoded data removed]",
      "text/plain": [
       "<Figure size 432x288 with 1 Axes>"
      ]
     },
     "metadata": {
      "needs_background": "light"
     },
     "output_type": "display_data"
    }
   ],
   "source": [
    "# Neural Network (NN) parameters\n",
    "epochs=120 # See why below\n",
    "learning_rate=0.4 # See why below\n",
    "verbose=True\n",
    "print_every_k=10\n",
    "# Initialization of the NN\n",
    "NN1 = MLP([4, 10, 3])\n",
    "print('TRAINING')\n",
    "# Training\n",
    "NN1.training(x_train,y_train,learning_rate,epochs,verbose,print_every_k)\n",
    "# Compute the training loss and accuracy after having completer the training\n",
    "y_hat=NN1.forward(x_train)\n",
    "print('final : loss = %.3e , accuracy = %.2f %%'%(MLP.loss(y_hat,y_train),100*MLP.accuracy(y_hat,y_train)))\n",
    "\n",
    "# Test\n",
    "print('\\nTEST')\n",
    "y_hat=NN1.forward(x_test)\n",
    "print('loss = %.3e , accuracy = %.2f %%\\n'%(MLP.loss(y_hat,y_test),100*MLP.accuracy(y_hat,y_test)))\n",
    "\n",
    "plt.plot(list(range(epochs)),NN1.losses,c='r',marker='o',ls='--');\n",
    "plt.title(\"Training Loss\")\n",
    "plt.xlabel(\"epochs\")\n",
    "plt.ylabel(\"loss value\")\n",
    "plt.show()\n",
    "\n",
    "plt.plot(list(range(epochs)),NN1.accuracies,c='g',marker='o',ls='--');\n",
    "plt.title(\"Training accuracy\")\n",
    "plt.xlabel(\"epochs\")\n",
    "plt.ylabel(\"accuracy\")\n",
    "plt.show()"
   ]
  },
  {
   "cell_type": "markdown",
   "metadata": {},
   "source": [
    "**Answer:**\n",
    "\n",
    " I changed the epochs parameters to 200 and the learning rate to 0.35 and I then wrote down the loss and accuracy of both the training set and the test set.\n",
    " \n",
    "The results are in average :\n",
    "\n",
    "TRAINING :\n",
    "\n",
    "Loss of Training : 3,12 *10^-2\n",
    "\n",
    "Accuracy of Training : 96,32 %\n",
    "\n",
    "\n",
    "TEST :\n",
    "\n",
    "Loss of Test : 1,66 *10^-2\n",
    "\n",
    "Accuracy of Test : 99,33 %\n",
    "    \n",
    "    \n",
    "INTERPRETATION :\n",
    "\n",
    "As we can see the results are very satisfying even if we did not make the training accuracy above 99 %\n",
    "\n",
    "By changing the epochs from 50 to 200 we changed the number of iterations of backpropagation we make. By doing so, the Loss funcion is improved for a longer time. This is usefull to make sure we make enough iterations to obtain a good result, even if the weights are randomly initialised\n",
    "\n",
    "By changing the learning rate from 0,01 to 0,35 we made sure each iterations would be closer to the objective in a quicker way. We experimented randomly on the value of the learning rate in ordre to find the most pragmatic one\n",
    "\n",
    "\n",
    "\n",
    "Having an epochs way too high would make the algorithm slower so we have to compromise\n",
    "\n",
    "Having a learning rate too high or too low can make us miss the minimum of the loss by either changing the variable too much or not enough.\n"
   ]
  },
  {
   "cell_type": "code",
   "execution_count": null,
   "metadata": {},
   "outputs": [],
   "source": []
  }
 ],
 "metadata": {
  "colab": {
   "name": "lab2_neural_networks.ipynb",
   "provenance": [],
   "toc_visible": true
  },
  "kernelspec": {
   "display_name": "Python 3",
   "language": "python",
   "name": "python3"
  },
  "language_info": {
   "codemirror_mode": {
    "name": "ipython",
    "version": 3
   },
   "file_extension": ".py",
   "mimetype": "text/x-python",
   "name": "python",
   "nbconvert_exporter": "python",
   "pygments_lexer": "ipython3",
   "version": "3.7.6"
  }
 },
 "nbformat": 4,
 "nbformat_minor": 4
}
